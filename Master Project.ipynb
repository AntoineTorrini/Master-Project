{
 "cells": [
  {
   "cell_type": "markdown",
   "metadata": {},
   "source": [
    "# Master Project\n",
    "\n",
    "This notebook contains the totality of code used for my Master Project."
   ]
  },
  {
   "cell_type": "markdown",
   "metadata": {},
   "source": [
    "## Table of contents"
   ]
  },
  {
   "cell_type": "markdown",
   "metadata": {},
   "source": [
    "# Data collection\n",
    "\n",
    "I used the `twitterscraper` package with the following query.\n",
    "\n",
    "```\n",
    "twitterscraper volkswagen -bd 2015-09-01 -ed 2015-10-15 -o 01_09_2015-15_10_2015.json\n",
    "```"
   ]
  },
  {
   "cell_type": "code",
   "execution_count": 21,
   "metadata": {},
   "outputs": [],
   "source": [
    "import re\n",
    "import json\n",
    "\n",
    "import pandas as pd\n",
    "from tqdm import tnrange\n",
    "\n",
    "from langdetect import detect\n",
    "from langdetect.lang_detect_exception import LangDetectException\n",
    "\n",
    "from nltk.tokenize import WordPunctTokenizer"
   ]
  },
  {
   "cell_type": "markdown",
   "metadata": {},
   "source": [
    "# Data cleaning\n",
    "\n",
    "Let's open the raw data."
   ]
  },
  {
   "cell_type": "code",
   "execution_count": 2,
   "metadata": {},
   "outputs": [
    {
     "name": "stdout",
     "output_type": "stream",
     "text": [
      "CPU times: user 23.8 s, sys: 23.6 s, total: 47.5 s\n",
      "Wall time: 1min 2s\n"
     ]
    }
   ],
   "source": [
    "%%time\n",
    "\n",
    "with open('01_09_2015-15_10_2015.json', 'r') as file:\n",
    "    raw = json.load(file)\n",
    "\n",
    "df = pd.DataFrame(raw)"
   ]
  },
  {
   "cell_type": "markdown",
   "metadata": {},
   "source": [
    "We have collected **914 274** tweets."
   ]
  },
  {
   "cell_type": "code",
   "execution_count": 3,
   "metadata": {},
   "outputs": [
    {
     "name": "stdout",
     "output_type": "stream",
     "text": [
      "Number of tweets collected: 914274\n"
     ]
    }
   ],
   "source": [
    "print('Number of tweets collected: {0}'.format(len(raw)))"
   ]
  },
  {
   "cell_type": "markdown",
   "metadata": {},
   "source": [
    "A tweet looks like this."
   ]
  },
  {
   "cell_type": "code",
   "execution_count": 4,
   "metadata": {},
   "outputs": [
    {
     "data": {
      "text/plain": [
       "{'fullname': 'Steve Kelly',\n",
       " 'html': '<p class=\"TweetTextSize js-tweet-text tweet-text\" data-aria-label-part=\"0\" lang=\"en\">Out here with my twin! <a class=\"twitter-atreply pretty-link js-nav\" data-mentioned-user-id=\"61401350\" dir=\"ltr\" href=\"/Big_Euro\"><s>@</s><b>big_euro</b></a> <a class=\"twitter-hashtag pretty-link js-nav\" data-query-source=\"hashtag_click\" dir=\"ltr\" href=\"/hashtag/socaleuro?src=hash\"><s>#</s><b>socaleuro</b></a> <a class=\"twitter-hashtag pretty-link js-nav\" data-query-source=\"hashtag_click\" dir=\"ltr\" href=\"/hashtag/Volkswagen?src=hash\"><s>#</s><b><strong>Volkswagen</strong></b></a> <a class=\"twitter-hashtag pretty-link js-nav\" data-query-source=\"hashtag_click\" dir=\"ltr\" href=\"/hashtag/b7passat?src=hash\"><s>#</s><b>b7passat</b></a> <a class=\"twitter-hashtag pretty-link js-nav\" data-query-source=\"hashtag_click\" dir=\"ltr\" href=\"/hashtag/passat?src=hash\"><s>#</s><b>passat</b></a> <a class=\"twitter-hashtag pretty-link js-nav\" data-query-source=\"hashtag_click\" dir=\"ltr\" href=\"/hashtag/static?src=hash\"><s>#</s><b>static</b></a> <a class=\"twitter-hashtag pretty-link js-nav\" data-query-source=\"hashtag_click\" dir=\"ltr\" href=\"/hashtag/bagride?src=hash\"><s>#</s><b>bagride</b></a>… <a class=\"twitter-timeline-link\" data-expanded-url=\"http://ift.tt/1JZMPmk\" dir=\"ltr\" href=\"http://t.co/jm6mrwnvJx\" rel=\"nofollow noopener\" target=\"_blank\" title=\"http://ift.tt/1JZMPmk\"><span class=\"tco-ellipsis\"></span><span class=\"invisible\">http://</span><span class=\"js-display-url\">ift.tt/1JZMPmk</span><span class=\"invisible\"></span><span class=\"tco-ellipsis\"><span class=\"invisible\">\\xa0</span></span></a><a class=\"twitter-timeline-link u-hidden\" data-pre-embedded=\"true\" dir=\"ltr\" href=\"http://t.co/mVowUAs7Xv\">pic.twitter.com/mVowUAs7Xv</a></p>',\n",
       " 'id': '640675797720801280',\n",
       " 'likes': 0,\n",
       " 'replies': 0,\n",
       " 'retweets': 1,\n",
       " 'text': 'Out here with my twin! @big_euro #socaleuro #Volkswagen #b7passat #passat #static #bagride… http://ift.tt/1JZMPmk\\xa0pic.twitter.com/mVowUAs7Xv',\n",
       " 'timestamp': '2015-09-06T23:59:48',\n",
       " 'url': '/volcombug/status/640675797720801280',\n",
       " 'user': 'volcombug'}"
      ]
     },
     "execution_count": 4,
     "metadata": {},
     "output_type": "execute_result"
    }
   ],
   "source": [
    "raw[0]"
   ]
  },
  {
   "cell_type": "markdown",
   "metadata": {},
   "source": [
    "To conduct our analysis, we will only keep the `id` and the `text` columns. Later on, we might rely on likes, replies and retweets to give importance to tweets."
   ]
  },
  {
   "cell_type": "code",
   "execution_count": 5,
   "metadata": {},
   "outputs": [
    {
     "data": {
      "text/html": [
       "<div>\n",
       "<style scoped>\n",
       "    .dataframe tbody tr th:only-of-type {\n",
       "        vertical-align: middle;\n",
       "    }\n",
       "\n",
       "    .dataframe tbody tr th {\n",
       "        vertical-align: top;\n",
       "    }\n",
       "\n",
       "    .dataframe thead th {\n",
       "        text-align: right;\n",
       "    }\n",
       "</style>\n",
       "<table border=\"1\" class=\"dataframe\">\n",
       "  <thead>\n",
       "    <tr style=\"text-align: right;\">\n",
       "      <th></th>\n",
       "      <th>id</th>\n",
       "      <th>text</th>\n",
       "    </tr>\n",
       "  </thead>\n",
       "  <tbody>\n",
       "    <tr>\n",
       "      <th>0</th>\n",
       "      <td>640675797720801280</td>\n",
       "      <td>Out here with my twin! @big_euro #socaleuro #V...</td>\n",
       "    </tr>\n",
       "    <tr>\n",
       "      <th>1</th>\n",
       "      <td>640675779253280768</td>\n",
       "      <td>I liked a @YouTube video http://youtu.be/pmzZb...</td>\n",
       "    </tr>\n",
       "    <tr>\n",
       "      <th>2</th>\n",
       "      <td>640675589251330048</td>\n",
       "      <td>Triste que ahora estacionen un Volkswagen que ...</td>\n",
       "    </tr>\n",
       "    <tr>\n",
       "      <th>3</th>\n",
       "      <td>640675540794515456</td>\n",
       "      <td>I liked a @YouTube video http://youtu.be/D-He3...</td>\n",
       "    </tr>\n",
       "    <tr>\n",
       "      <th>4</th>\n",
       "      <td>640675381922656256</td>\n",
       "      <td>I liked a @YouTube video http://youtu.be/8ZhGp...</td>\n",
       "    </tr>\n",
       "  </tbody>\n",
       "</table>\n",
       "</div>"
      ],
      "text/plain": [
       "                   id                                               text\n",
       "0  640675797720801280  Out here with my twin! @big_euro #socaleuro #V...\n",
       "1  640675779253280768  I liked a @YouTube video http://youtu.be/pmzZb...\n",
       "2  640675589251330048  Triste que ahora estacionen un Volkswagen que ...\n",
       "3  640675540794515456  I liked a @YouTube video http://youtu.be/D-He3...\n",
       "4  640675381922656256  I liked a @YouTube video http://youtu.be/8ZhGp..."
      ]
     },
     "execution_count": 5,
     "metadata": {},
     "output_type": "execute_result"
    }
   ],
   "source": [
    "df.drop(columns=['fullname', 'html', 'likes', 'replies', 'retweets', 'timestamp', 'url', 'user'], inplace=True)\n",
    "df.head()"
   ]
  },
  {
   "cell_type": "markdown",
   "metadata": {},
   "source": [
    "We removed the links."
   ]
  },
  {
   "cell_type": "code",
   "execution_count": 6,
   "metadata": {},
   "outputs": [
    {
     "name": "stdout",
     "output_type": "stream",
     "text": [
      "Original:\n",
      "I liked a @YouTube video http://youtu.be/pmzZbUioFAQ?a  2015 Volkswagen Sales Event | “Model Rear End” Passat Commercial\n",
      "Volkswagen pic.twitter.com/hPnvGJ3Ysi\n",
      "Transformed:\n",
      "I liked a @YouTube video   2015 Volkswagen Sales Event | “Model Rear End” Passat Commercial\n",
      "Volkswagen \n"
     ]
    }
   ],
   "source": [
    "print('Original:')\n",
    "print(df['text'][1])\n",
    "print(df['text'][18])\n",
    "print('Transformed:')\n",
    "print(re.sub(r'(https?:\\/\\/|pic.twitter)[^\\s]+', '', df['text'][1]))\n",
    "print(re.sub(r'(https?:\\/\\/|pic.twitter)[^\\s]+', '', df['text'][18]))"
   ]
  },
  {
   "cell_type": "markdown",
   "metadata": {},
   "source": [
    "We remove the user tags or hastags but not the text associated with it."
   ]
  },
  {
   "cell_type": "code",
   "execution_count": 7,
   "metadata": {},
   "outputs": [
    {
     "name": "stdout",
     "output_type": "stream",
     "text": [
      "Original:\n",
      "Out here with my twin! @big_euro #socaleuro #Volkswagen #b7passat #passat #static #bagride… http://ift.tt/1JZMPmk pic.twitter.com/mVowUAs7Xv\n",
      "Transformed:\n",
      "Out here with my twin! big_euro socaleuro Volkswagen b7passat passat static bagride… http://ift.tt/1JZMPmk pic.twitter.com/mVowUAs7Xv\n"
     ]
    }
   ],
   "source": [
    "print('Original:')\n",
    "print(df['text'][0])\n",
    "print('Transformed:')\n",
    "print(re.sub(r'(#|@)', '', df['text'][0]))"
   ]
  },
  {
   "cell_type": "markdown",
   "metadata": {},
   "source": [
    "Let's write a function that sums up all the cleaning.\n",
    "\n",
    "We also write a function to keep only the english tweets."
   ]
  },
  {
   "cell_type": "code",
   "execution_count": 22,
   "metadata": {},
   "outputs": [],
   "source": [
    "def cleaner(df):\n",
    "    # Create a copy\n",
    "    df_tmp = df.copy()\n",
    "    \n",
    "    # Links cleaning\n",
    "    df_tmp['text'] = df_tmp['text'].str.replace(r'(https?:\\/\\/|pic.twitter)[^\\s]+', '')\n",
    "    \n",
    "    # @ and # cleaning\n",
    "    df_tmp['text'] = df_tmp['text'].str.replace(r'(#|@)', '')\n",
    "    \n",
    "    # Remove the numbers\n",
    "    df_tmp['text'] = df_tmp['text'].str.replace(r'\\d+', '')\n",
    "    \n",
    "    # Put everything to lower case\n",
    "    df_tmp['text'] = df_tmp['text'].str.lower()\n",
    "    \n",
    "    # Punctuation\n",
    "    df_tmp['text'] = df_tmp['text'].str.replace(r'[^\\w\\s]', ' ')\n",
    "    \n",
    "    # Strip whitespaces\n",
    "    df_tmp['text'] = df_tmp['text'].str.replace(r'\\s{2,}', ' ')\n",
    "    \n",
    "    return df_tmp\n",
    "\n",
    "def english_keeper(df):    \n",
    "    english_tweets = []\n",
    "    \n",
    "    labels = ['id', 'text']\n",
    "    \n",
    "    for i in tnrange(len(df)):\n",
    "        text = df['text'][i]\n",
    "        try:\n",
    "            if detect(text) == 'en':\n",
    "                english_tweets.append((df['id'][i], text))\n",
    "        except LangDetectException:\n",
    "            pass\n",
    "    \n",
    "    df_english = pd.DataFrame.from_records(english_tweets, columns=labels)\n",
    "    \n",
    "    return df_english"
   ]
  },
  {
   "cell_type": "code",
   "execution_count": null,
   "metadata": {},
   "outputs": [],
   "source": [
    "%%time\n",
    "\n",
    "df_clean = cleaner(df)\n",
    "df_english = english_keeper(df_clean)"
   ]
  },
  {
   "cell_type": "code",
   "execution_count": null,
   "metadata": {},
   "outputs": [],
   "source": [
    "print(df_clean.shape, df_english.shape)"
   ]
  },
  {
   "cell_type": "code",
   "execution_count": 16,
   "metadata": {},
   "outputs": [],
   "source": []
  },
  {
   "cell_type": "code",
   "execution_count": null,
   "metadata": {},
   "outputs": [],
   "source": []
  },
  {
   "cell_type": "code",
   "execution_count": null,
   "metadata": {},
   "outputs": [],
   "source": []
  },
  {
   "cell_type": "code",
   "execution_count": null,
   "metadata": {},
   "outputs": [],
   "source": []
  }
 ],
 "metadata": {
  "kernelspec": {
   "display_name": "Python 3",
   "language": "python",
   "name": "python3"
  },
  "language_info": {
   "codemirror_mode": {
    "name": "ipython",
    "version": 3
   },
   "file_extension": ".py",
   "mimetype": "text/x-python",
   "name": "python",
   "nbconvert_exporter": "python",
   "pygments_lexer": "ipython3",
   "version": "3.7.2"
  }
 },
 "nbformat": 4,
 "nbformat_minor": 2
}
