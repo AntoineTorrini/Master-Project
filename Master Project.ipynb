{
 "cells": [
  {
   "cell_type": "markdown",
   "metadata": {},
   "source": [
    "# Master Project\n",
    "\n",
    "This notebook contains the totality of code used for my Master Project."
   ]
  },
  {
   "cell_type": "markdown",
   "metadata": {},
   "source": [
    "## Table of contents"
   ]
  },
  {
   "cell_type": "markdown",
   "metadata": {},
   "source": [
    "# Data collection\n",
    "\n",
    "I used the `twitterscraper` package with the following query.\n",
    "\n",
    "```\n",
    "twitterscraper volkswagen -bd 2015-09-01 -ed 2015-10-15 -o 01_09_2015-15_10_2015.json\n",
    "```"
   ]
  },
  {
   "cell_type": "code",
   "execution_count": 16,
   "metadata": {},
   "outputs": [],
   "source": [
    "import re\n",
    "import json\n",
    "\n",
    "import pandas as pd\n",
    "\n",
    "from nltk.tokenize import WordPunctTokenizer"
   ]
  },
  {
   "cell_type": "markdown",
   "metadata": {},
   "source": [
    "# Data cleaning\n",
    "\n",
    "Let's open the raw data."
   ]
  },
  {
   "cell_type": "code",
   "execution_count": 2,
   "metadata": {},
   "outputs": [
    {
     "name": "stdout",
     "output_type": "stream",
     "text": [
      "CPU times: user 30.9 s, sys: 43.2 s, total: 1min 14s\n",
      "Wall time: 2min 8s\n"
     ]
    }
   ],
   "source": [
    "%%time\n",
    "\n",
    "with open('01_09_2015-15_10_2015.json', 'r') as file:\n",
    "    raw = json.load(file)\n",
    "\n",
    "df = pd.DataFrame(raw)"
   ]
  },
  {
   "cell_type": "markdown",
   "metadata": {},
   "source": [
    "We have collected **914 274** tweets."
   ]
  },
  {
   "cell_type": "code",
   "execution_count": 3,
   "metadata": {},
   "outputs": [
    {
     "name": "stdout",
     "output_type": "stream",
     "text": [
      "Number of tweets collected: 914274\n"
     ]
    }
   ],
   "source": [
    "print('Number of tweets collected: {0}'.format(len(raw)))"
   ]
  },
  {
   "cell_type": "markdown",
   "metadata": {},
   "source": [
    "A tweet looks like this."
   ]
  },
  {
   "cell_type": "code",
   "execution_count": 4,
   "metadata": {},
   "outputs": [
    {
     "data": {
      "text/plain": [
       "{'fullname': 'Steve Kelly',\n",
       " 'html': '<p class=\"TweetTextSize js-tweet-text tweet-text\" data-aria-label-part=\"0\" lang=\"en\">Out here with my twin! <a class=\"twitter-atreply pretty-link js-nav\" data-mentioned-user-id=\"61401350\" dir=\"ltr\" href=\"/Big_Euro\"><s>@</s><b>big_euro</b></a> <a class=\"twitter-hashtag pretty-link js-nav\" data-query-source=\"hashtag_click\" dir=\"ltr\" href=\"/hashtag/socaleuro?src=hash\"><s>#</s><b>socaleuro</b></a> <a class=\"twitter-hashtag pretty-link js-nav\" data-query-source=\"hashtag_click\" dir=\"ltr\" href=\"/hashtag/Volkswagen?src=hash\"><s>#</s><b><strong>Volkswagen</strong></b></a> <a class=\"twitter-hashtag pretty-link js-nav\" data-query-source=\"hashtag_click\" dir=\"ltr\" href=\"/hashtag/b7passat?src=hash\"><s>#</s><b>b7passat</b></a> <a class=\"twitter-hashtag pretty-link js-nav\" data-query-source=\"hashtag_click\" dir=\"ltr\" href=\"/hashtag/passat?src=hash\"><s>#</s><b>passat</b></a> <a class=\"twitter-hashtag pretty-link js-nav\" data-query-source=\"hashtag_click\" dir=\"ltr\" href=\"/hashtag/static?src=hash\"><s>#</s><b>static</b></a> <a class=\"twitter-hashtag pretty-link js-nav\" data-query-source=\"hashtag_click\" dir=\"ltr\" href=\"/hashtag/bagride?src=hash\"><s>#</s><b>bagride</b></a>… <a class=\"twitter-timeline-link\" data-expanded-url=\"http://ift.tt/1JZMPmk\" dir=\"ltr\" href=\"http://t.co/jm6mrwnvJx\" rel=\"nofollow noopener\" target=\"_blank\" title=\"http://ift.tt/1JZMPmk\"><span class=\"tco-ellipsis\"></span><span class=\"invisible\">http://</span><span class=\"js-display-url\">ift.tt/1JZMPmk</span><span class=\"invisible\"></span><span class=\"tco-ellipsis\"><span class=\"invisible\">\\xa0</span></span></a><a class=\"twitter-timeline-link u-hidden\" data-pre-embedded=\"true\" dir=\"ltr\" href=\"http://t.co/mVowUAs7Xv\">pic.twitter.com/mVowUAs7Xv</a></p>',\n",
       " 'id': '640675797720801280',\n",
       " 'likes': 0,\n",
       " 'replies': 0,\n",
       " 'retweets': 1,\n",
       " 'text': 'Out here with my twin! @big_euro #socaleuro #Volkswagen #b7passat #passat #static #bagride… http://ift.tt/1JZMPmk\\xa0pic.twitter.com/mVowUAs7Xv',\n",
       " 'timestamp': '2015-09-06T23:59:48',\n",
       " 'url': '/volcombug/status/640675797720801280',\n",
       " 'user': 'volcombug'}"
      ]
     },
     "execution_count": 4,
     "metadata": {},
     "output_type": "execute_result"
    }
   ],
   "source": [
    "raw[0]"
   ]
  },
  {
   "cell_type": "markdown",
   "metadata": {},
   "source": [
    "To conduct our analysis, we will only keep the `id` and the `text` columns. Later on, we might rely on likes, replies and retweets to give importance to tweets."
   ]
  },
  {
   "cell_type": "code",
   "execution_count": 5,
   "metadata": {},
   "outputs": [
    {
     "data": {
      "text/html": [
       "<div>\n",
       "<style scoped>\n",
       "    .dataframe tbody tr th:only-of-type {\n",
       "        vertical-align: middle;\n",
       "    }\n",
       "\n",
       "    .dataframe tbody tr th {\n",
       "        vertical-align: top;\n",
       "    }\n",
       "\n",
       "    .dataframe thead th {\n",
       "        text-align: right;\n",
       "    }\n",
       "</style>\n",
       "<table border=\"1\" class=\"dataframe\">\n",
       "  <thead>\n",
       "    <tr style=\"text-align: right;\">\n",
       "      <th></th>\n",
       "      <th>id</th>\n",
       "      <th>text</th>\n",
       "    </tr>\n",
       "  </thead>\n",
       "  <tbody>\n",
       "    <tr>\n",
       "      <th>0</th>\n",
       "      <td>640675797720801280</td>\n",
       "      <td>Out here with my twin! @big_euro #socaleuro #V...</td>\n",
       "    </tr>\n",
       "    <tr>\n",
       "      <th>1</th>\n",
       "      <td>640675779253280768</td>\n",
       "      <td>I liked a @YouTube video http://youtu.be/pmzZb...</td>\n",
       "    </tr>\n",
       "    <tr>\n",
       "      <th>2</th>\n",
       "      <td>640675589251330048</td>\n",
       "      <td>Triste que ahora estacionen un Volkswagen que ...</td>\n",
       "    </tr>\n",
       "    <tr>\n",
       "      <th>3</th>\n",
       "      <td>640675540794515456</td>\n",
       "      <td>I liked a @YouTube video http://youtu.be/D-He3...</td>\n",
       "    </tr>\n",
       "    <tr>\n",
       "      <th>4</th>\n",
       "      <td>640675381922656256</td>\n",
       "      <td>I liked a @YouTube video http://youtu.be/8ZhGp...</td>\n",
       "    </tr>\n",
       "  </tbody>\n",
       "</table>\n",
       "</div>"
      ],
      "text/plain": [
       "                   id                                               text\n",
       "0  640675797720801280  Out here with my twin! @big_euro #socaleuro #V...\n",
       "1  640675779253280768  I liked a @YouTube video http://youtu.be/pmzZb...\n",
       "2  640675589251330048  Triste que ahora estacionen un Volkswagen que ...\n",
       "3  640675540794515456  I liked a @YouTube video http://youtu.be/D-He3...\n",
       "4  640675381922656256  I liked a @YouTube video http://youtu.be/8ZhGp..."
      ]
     },
     "execution_count": 5,
     "metadata": {},
     "output_type": "execute_result"
    }
   ],
   "source": [
    "df.drop(columns=['fullname', 'html', 'likes', 'replies', 'retweets', 'timestamp', 'url', 'user'], inplace=True)\n",
    "df.head()"
   ]
  },
  {
   "cell_type": "markdown",
   "metadata": {},
   "source": [
    "We removed the links."
   ]
  },
  {
   "cell_type": "code",
   "execution_count": 6,
   "metadata": {},
   "outputs": [
    {
     "name": "stdout",
     "output_type": "stream",
     "text": [
      "Original:\n",
      "I liked a @YouTube video http://youtu.be/pmzZbUioFAQ?a  2015 Volkswagen Sales Event | “Model Rear End” Passat Commercial\n",
      "Volkswagen pic.twitter.com/hPnvGJ3Ysi\n",
      "Transformed:\n",
      "I liked a @YouTube video   2015 Volkswagen Sales Event | “Model Rear End” Passat Commercial\n",
      "Volkswagen \n"
     ]
    }
   ],
   "source": [
    "print('Original:')\n",
    "print(df['text'][1])\n",
    "print(df['text'][18])\n",
    "print('Transformed:')\n",
    "print(re.sub(r'(https?:\\/\\/|pic.twitter)[^\\s]+', '', df['text'][1]))\n",
    "print(re.sub(r'(https?:\\/\\/|pic.twitter)[^\\s]+', '', df['text'][18]))"
   ]
  },
  {
   "cell_type": "markdown",
   "metadata": {},
   "source": [
    "We remove the user tags or hastags but not the text associated with it."
   ]
  },
  {
   "cell_type": "code",
   "execution_count": 7,
   "metadata": {},
   "outputs": [
    {
     "name": "stdout",
     "output_type": "stream",
     "text": [
      "Original:\n",
      "Out here with my twin! @big_euro #socaleuro #Volkswagen #b7passat #passat #static #bagride… http://ift.tt/1JZMPmk pic.twitter.com/mVowUAs7Xv\n",
      "Transformed:\n",
      "Out here with my twin! big_euro socaleuro Volkswagen b7passat passat static bagride… http://ift.tt/1JZMPmk pic.twitter.com/mVowUAs7Xv\n"
     ]
    }
   ],
   "source": [
    "print('Original:')\n",
    "print(df['text'][0])\n",
    "print('Transformed:')\n",
    "print(re.sub(r'(#|@)', '', df['text'][0]))"
   ]
  },
  {
   "cell_type": "markdown",
   "metadata": {},
   "source": [
    "Let's write a function that sums up all the cleaning."
   ]
  },
  {
   "cell_type": "code",
   "execution_count": 25,
   "metadata": {},
   "outputs": [],
   "source": [
    "def cleaner(df):\n",
    "    # Create a copy\n",
    "    df_tmp = df.copy()\n",
    "    \n",
    "    # Links cleaning\n",
    "    df_tmp.text = df_tmp.text.str.replace(r'(https?:\\/\\/|pic.twitter)[^\\s]+', '')\n",
    "    \n",
    "    # @ and # cleaning\n",
    "    df_tmp.text = df_tmp.text.str.replace(r'(#|@)', '')\n",
    "    \n",
    "    # Remove the numbers\n",
    "    df_tmp.text = df_tmp.text.str.replace(r'\\d+', '')\n",
    "    \n",
    "    # Put everything to lower case\n",
    "    df_tmp.text = df_tmp.text.str.lower()\n",
    "    \n",
    "    # Punctuation\n",
    "    df_tmp.text = df_tmp.text.str.replace(r'[^\\w\\s]', ' ')\n",
    "    \n",
    "    # Strip whitespaces\n",
    "    df_tmp.text = df_tmp.text.str.replace(r'\\s{2,}', ' ')\n",
    "    \n",
    "    return df_tmp"
   ]
  },
  {
   "cell_type": "code",
   "execution_count": 26,
   "metadata": {},
   "outputs": [],
   "source": [
    "df_clean = cleaner(df)"
   ]
  },
  {
   "cell_type": "code",
   "execution_count": 27,
   "metadata": {},
   "outputs": [
    {
     "name": "stdout",
     "output_type": "stream",
     "text": [
      "Out here with my twin! @big_euro #socaleuro #Volkswagen #b7passat #passat #static #bagride… http://ift.tt/1JZMPmk pic.twitter.com/mVowUAs7Xv\n",
      "I liked a @YouTube video http://youtu.be/pmzZbUioFAQ?a  2015 Volkswagen Sales Event | “Model Rear End” Passat Commercial\n",
      "Triste que ahora estacionen un Volkswagen que no es mio frente a mi casa.\n",
      "I liked a @YouTube video http://youtu.be/D-He3Gq43DA?a  Diesel Old Wives' Tale #4: Stinky | 2015 Volkswagen Passat TDI Clean Diesel\n",
      "I liked a @YouTube video http://youtu.be/8ZhGpZaLC10?a  Diesel Old Wives' Tale #2: Loud | 2015 Volkswagen Passat TDI Clean Diesel\n",
      "I liked a @YouTube video http://youtu.be/YnYuCVhRgK8?a  2015 Volkswagen Sales Event | “Rear” Passat Commercial\n",
      "04 Volkswagen Jetta: '04 Volkswagen Jetta in good condition with only 76k miles. 4 door sedan ... http://bit.ly/1Op01oK  #VW #jetta #car\n",
      "2015 Volkswagen Jetta Sedan: Looking for a 2015 Volkswagen Jetta Sedan located in Merrimack NH... http://bit.ly/1XzoqhH  #VW #jetta #car\n",
      "I liked a @YouTube video http://youtu.be/6BfIBMqGkRY?a  Diesel Old Wives' Tale #3: Hard to Find | 2015 Volkswagen Passat TDI Clean Diesel\n",
      "I liked a @YouTube video http://youtu.be/4IjPnTCo4o4?a  2015 Volkswagen Sales Event | “Many Miles” Passat Commercial\n",
      "Hoje eu to feliiiiiz, hoje eu to contente! '(o)\\!/(o)' #73 #fusca #vw #vwaircooled #käfer #volkswagen #car #instaca…pic.twitter.com/4WaHsxLDDE\n",
      "Volkswagen fixa preço de revisões incluindo mão de obra | http://CAR.BLOG.BR  - Carros http://fb.me/CzOYt3jI \n",
      "Xe Volkswagen giá chỉ 14 triệu đồng có thật hay không? http://goo.gl/fb/d5joFu \n",
      "Gostei de um vídeo @YouTube de @raavaz http://youtu.be/DDu4wWrBT28?a  Euro Truck Simulator 2 - Mod Bus - Volkswagen Ideale 770 - Expresso\n",
      "Volkswagen запустил производство двигателей в Калуге\n",
      "I liked a @YouTube video http://youtu.be/M4TMdvvA-Ao?a  Diesel Old Wives' Tale #5: Diesel Isn’t Fuel Efficient | Volkswagen Passat TDI\n",
      "I liked a @YouTube video http://youtu.be/CATxYHQlqDg?a  2015 Volkswagen Sales Event | “What About A Deal” Jetta Commercial\n",
      "What an awesome way to display our dealer sign. Just awesome \n",
      "\n",
      " @aircooled_ch \n",
      "・・・\n",
      "New volkswagen sign... By... http://fb.me/6lqUBzV0q \n",
      "Volkswagen pic.twitter.com/hPnvGJ3Ysi\n",
      "I liked a @YouTube video http://youtu.be/Q_zQJHy_rWg?a  2015 Volkswagen Sales Event | “Like It Hot” Passat Commercial\n",
      "Новости авто; Volkswagen запустил производство двигателей в Калуге\n",
      "I liked a @YouTube video http://youtu.be/XksW4lS9Nfk?a  2015 Volkswagen Sales Event | “Junk” Passat Commercial\n",
      "Stock #VW Decides To Race http://dld.bz/dCjcD  #Volkswagen pic.twitter.com/JbqzC6Gxwe\n",
      "I liked a @YouTube video http://youtu.be/zFzgzj9rM0M?a  Diesel Old Wives' Tale #1: Sluggish | 2015 Volkswagen Golf TDI Clean Diesel\n",
      "#TNL LVGAMES Innsbruck @tnloficial dirigindo , Volkswagen Constellation saiu de Sao Paulo - Bebidas para Botucatu #etsfs.com\n",
      "Role Reversal at Volkswagen http://fb.me/7zIooBUZg \n",
      "http://volkswagen.automobil-markt.de/volkswagen-phaeton/10851 … #volkswagen VW Phaeton 3.2 mit LPG pic.twitter.com/NRUxloZekT\n",
      "Volkswagen Golf: Who Wants To Have A Car With Formal Attitude With Advanced Features...NCn\n",
      "Volkswagen Bets on Long-Term Russian Growth With New Engine Plant - The Moscow Times (registration) http://bit.ly/1Xznlq5 \n",
      "Say what you will, but I believe that the 1973 #Volkswagen #SuperBeetle is one of the greatest cars ever built.\n"
     ]
    }
   ],
   "source": [
    "for i in range(30):\n",
    "    print(df.text[i])"
   ]
  },
  {
   "cell_type": "code",
   "execution_count": 28,
   "metadata": {},
   "outputs": [
    {
     "name": "stdout",
     "output_type": "stream",
     "text": [
      "out here with my twin big_euro socaleuro volkswagen bpassat passat static bagride \n",
      "i liked a youtube video volkswagen sales event model rear end passat commercial\n",
      "triste que ahora estacionen un volkswagen que no es mio frente a mi casa \n",
      "i liked a youtube video diesel old wives tale stinky volkswagen passat tdi clean diesel\n",
      "i liked a youtube video diesel old wives tale loud volkswagen passat tdi clean diesel\n",
      "i liked a youtube video volkswagen sales event rear passat commercial\n",
      " volkswagen jetta volkswagen jetta in good condition with only k miles door sedan vw jetta car\n",
      " volkswagen jetta sedan looking for a volkswagen jetta sedan located in merrimack nh vw jetta car\n",
      "i liked a youtube video diesel old wives tale hard to find volkswagen passat tdi clean diesel\n",
      "i liked a youtube video volkswagen sales event many miles passat commercial\n",
      "hoje eu to feliiiiiz hoje eu to contente o o fusca vw vwaircooled käfer volkswagen car instaca \n",
      "volkswagen fixa preço de revisões incluindo mão de obra carros \n",
      "xe volkswagen giá chỉ triệu đồng có thật hay không \n",
      "gostei de um vídeo youtube de raavaz euro truck simulator mod bus volkswagen ideale expresso\n",
      "volkswagen запустил производство двигателей в калуге\n",
      "i liked a youtube video diesel old wives tale diesel isn t fuel efficient volkswagen passat tdi\n",
      "i liked a youtube video volkswagen sales event what about a deal jetta commercial\n",
      "what an awesome way to display our dealer sign just awesome aircooled_ch new volkswagen sign by \n",
      "volkswagen \n",
      "i liked a youtube video volkswagen sales event like it hot passat commercial\n",
      "новости авто volkswagen запустил производство двигателей в калуге\n",
      "i liked a youtube video volkswagen sales event junk passat commercial\n",
      "stock vw decides to race volkswagen \n",
      "i liked a youtube video diesel old wives tale sluggish volkswagen golf tdi clean diesel\n",
      "tnl lvgames innsbruck tnloficial dirigindo volkswagen constellation saiu de sao paulo bebidas para botucatu etsfs com\n",
      "role reversal at volkswagen \n",
      " volkswagen vw phaeton mit lpg \n",
      "volkswagen golf who wants to have a car with formal attitude with advanced features ncn\n",
      "volkswagen bets on long term russian growth with new engine plant the moscow times registration \n",
      "say what you will but i believe that the volkswagen superbeetle is one of the greatest cars ever built \n"
     ]
    }
   ],
   "source": [
    "for i in range(30):\n",
    "    print(df_clean.text[i])"
   ]
  },
  {
   "cell_type": "code",
   "execution_count": null,
   "metadata": {},
   "outputs": [],
   "source": []
  }
 ],
 "metadata": {
  "kernelspec": {
   "display_name": "Python 3",
   "language": "python",
   "name": "python3"
  },
  "language_info": {
   "codemirror_mode": {
    "name": "ipython",
    "version": 3
   },
   "file_extension": ".py",
   "mimetype": "text/x-python",
   "name": "python",
   "nbconvert_exporter": "python",
   "pygments_lexer": "ipython3",
   "version": "3.7.2"
  }
 },
 "nbformat": 4,
 "nbformat_minor": 2
}
